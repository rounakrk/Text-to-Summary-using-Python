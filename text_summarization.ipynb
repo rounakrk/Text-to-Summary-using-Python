{
  "nbformat": 4,
  "nbformat_minor": 0,
  "metadata": {
    "colab": {
      "name": "text_summarization.ipynb",
      "provenance": [],
      "collapsed_sections": []
    },
    "kernelspec": {
      "name": "python3",
      "display_name": "Python 3"
    },
    "accelerator": "TPU"
  },
  "cells": [
    {
      "cell_type": "markdown",
      "metadata": {
        "id": "RT29962lcioV"
      },
      "source": [
        "# Text Summarization"
      ]
    },
    {
      "cell_type": "markdown",
      "metadata": {
        "id": "zQCSoVKScbva"
      },
      "source": [
        "![img.jpg](https://i0.wp.com/www.cse.chalmers.se/~kageback/wp-content/uploads/2014/12/summarization.jpg?fit=1200%2C835)"
      ]
    },
    {
      "cell_type": "markdown",
      "metadata": {
        "id": "EbejxFpxa3QW"
      },
      "source": [
        "##Importing necessary Libraries"
      ]
    },
    {
      "cell_type": "code",
      "metadata": {
        "id": "RGJImvozJmJ1"
      },
      "source": [
        "import nltk\r\n",
        "import string\r\n",
        "from heapq import nlargest"
      ],
      "execution_count": 1,
      "outputs": []
    },
    {
      "cell_type": "code",
      "metadata": {
        "colab": {
          "base_uri": "https://localhost:8080/"
        },
        "id": "QuV2pBdELi3o",
        "outputId": "dd036d19-eeaa-40c8-95e2-840dc56ef034"
      },
      "source": [
        "nltk.download('stopwords')\r\n",
        "nltk.download('punkt')"
      ],
      "execution_count": 19,
      "outputs": [
        {
          "output_type": "stream",
          "text": [
            "[nltk_data] Downloading package stopwords to /root/nltk_data...\n",
            "[nltk_data]   Package stopwords is already up-to-date!\n",
            "[nltk_data] Downloading package punkt to /root/nltk_data...\n",
            "[nltk_data]   Unzipping tokenizers/punkt.zip.\n"
          ],
          "name": "stdout"
        },
        {
          "output_type": "execute_result",
          "data": {
            "text/plain": [
              "True"
            ]
          },
          "metadata": {
            "tags": []
          },
          "execution_count": 19
        }
      ]
    },
    {
      "cell_type": "markdown",
      "metadata": {
        "id": "RoK6fzp9bDX6"
      },
      "source": [
        "###Main document\r\n",
        "\r\n",
        "* The document to be summarized shoudl be kept in the text variable"
      ]
    },
    {
      "cell_type": "code",
      "metadata": {
        "id": "oPOQ6F7mJ5q8"
      },
      "source": [
        "text = \"Text Summarization is the process of creating a summary of a certain document which contains the most important information of the original, the purpose of which is to obtain a summary of the main points of the document. In this article, I will introduce you to a machine learning project on text summarization with Python.There is a huge amount of data appearing digitally, so it is necessary to develop a unique procedure to immediately summarize long texts while keeping the main idea. Text summarization also makes it possible to shorten the reading time, speed up information searches and obtain as much information as possible on a subject.The main goal of using machine learning for text summarization is to reduce the reference text to a smaller version while keeping its knowledge alongside its meaning. Multiple text summary descriptions are provided, for example, explained the report as text generated from one or more documents that communicate relevant knowledge in the first text, and that is no longer than half of the main text and generally much more limited than this.I hope you now know what is Text Summarization and why we need to use machine learning for it. In the section below, I will take you through a Machine Learning project on Text Summarization with Python.\""
      ],
      "execution_count": 6,
      "outputs": []
    },
    {
      "cell_type": "code",
      "metadata": {
        "colab": {
          "base_uri": "https://localhost:8080/",
          "height": 171
        },
        "id": "xhQ40G1IKNC4",
        "outputId": "2cb4e014-f4af-40a1-fa4d-75b9697cd9bd"
      },
      "source": [
        "text"
      ],
      "execution_count": 7,
      "outputs": [
        {
          "output_type": "execute_result",
          "data": {
            "application/vnd.google.colaboratory.intrinsic+json": {
              "type": "string"
            },
            "text/plain": [
              "'Text Summarization is the process of creating a summary of a certain document which contains the most important information of the original, the purpose of which is to obtain a summary of the main points of the document. In this article, I will introduce you to a machine learning project on text summarization with Python.There is a huge amount of data appearing digitally, so it is necessary to develop a unique procedure to immediately summarize long texts while keeping the main idea. Text summarization also makes it possible to shorten the reading time, speed up information searches and obtain as much information as possible on a subject.The main goal of using machine learning for text summarization is to reduce the reference text to a smaller version while keeping its knowledge alongside its meaning. Multiple text summary descriptions are provided, for example, explained the report as text generated from one or more documents that communicate relevant knowledge in the first text, and that is no longer than half of the main text and generally much more limited than this.I hope you now know what is Text Summarization and why we need to use machine learning for it. In the section below, I will take you through a Machine Learning project on Text Summarization with Python.'"
            ]
          },
          "metadata": {
            "tags": []
          },
          "execution_count": 7
        }
      ]
    },
    {
      "cell_type": "markdown",
      "metadata": {
        "id": "wZQCeGXabRMt"
      },
      "source": [
        "###Calculating the length of the summary to be made"
      ]
    },
    {
      "cell_type": "code",
      "metadata": {
        "id": "htrlKAU2KN6o"
      },
      "source": [
        "if text.count(\". \") > 20:\r\n",
        "    length = int(round(text.count(\". \")/10, 0))\r\n",
        "else:\r\n",
        "    length = 1"
      ],
      "execution_count": 8,
      "outputs": []
    },
    {
      "cell_type": "code",
      "metadata": {
        "colab": {
          "base_uri": "https://localhost:8080/"
        },
        "id": "B-ywAWZPKnVY",
        "outputId": "6a359272-716c-44bc-c70c-ee5cef2e46bb"
      },
      "source": [
        "length"
      ],
      "execution_count": 9,
      "outputs": [
        {
          "output_type": "execute_result",
          "data": {
            "text/plain": [
              "1"
            ]
          },
          "metadata": {
            "tags": []
          },
          "execution_count": 9
        }
      ]
    },
    {
      "cell_type": "markdown",
      "metadata": {
        "id": "9FBuhrfxbYfT"
      },
      "source": [
        "### Removing punctuation"
      ]
    },
    {
      "cell_type": "code",
      "metadata": {
        "id": "OXUFazIgKpeH"
      },
      "source": [
        "nopuch =[char for char in text if char not in string.punctuation]\r\n",
        "nopuch = \"\".join(nopuch)"
      ],
      "execution_count": 10,
      "outputs": []
    },
    {
      "cell_type": "code",
      "metadata": {
        "colab": {
          "base_uri": "https://localhost:8080/",
          "height": 171
        },
        "id": "YIR7lhFGKxsS",
        "outputId": "51af1b0f-75e0-4d27-9975-406cdd5cff15"
      },
      "source": [
        "nopuch"
      ],
      "execution_count": 11,
      "outputs": [
        {
          "output_type": "execute_result",
          "data": {
            "application/vnd.google.colaboratory.intrinsic+json": {
              "type": "string"
            },
            "text/plain": [
              "'Text Summarization is the process of creating a summary of a certain document which contains the most important information of the original the purpose of which is to obtain a summary of the main points of the document In this article I will introduce you to a machine learning project on text summarization with PythonThere is a huge amount of data appearing digitally so it is necessary to develop a unique procedure to immediately summarize long texts while keeping the main idea Text summarization also makes it possible to shorten the reading time speed up information searches and obtain as much information as possible on a subjectThe main goal of using machine learning for text summarization is to reduce the reference text to a smaller version while keeping its knowledge alongside its meaning Multiple text summary descriptions are provided for example explained the report as text generated from one or more documents that communicate relevant knowledge in the first text and that is no longer than half of the main text and generally much more limited than thisI hope you now know what is Text Summarization and why we need to use machine learning for it In the section below I will take you through a Machine Learning project on Text Summarization with Python'"
            ]
          },
          "metadata": {
            "tags": []
          },
          "execution_count": 11
        }
      ]
    },
    {
      "cell_type": "markdown",
      "metadata": {
        "id": "jyJwW9JxbfLd"
      },
      "source": [
        "###Frequency of the words in the document"
      ]
    },
    {
      "cell_type": "code",
      "metadata": {
        "id": "DQVmh8-cKzCR"
      },
      "source": [
        "processed_text = [word for word in nopuch.split() if word.lower() not in nltk.corpus.stopwords.words('english')]\r\n",
        "\r\n",
        "word_freq = {}\r\n",
        "for word in processed_text:\r\n",
        "    if word not in word_freq:\r\n",
        "        word_freq[word] = 1\r\n",
        "    else:\r\n",
        "        word_freq[word] = word_freq[word] + 1"
      ],
      "execution_count": 14,
      "outputs": []
    },
    {
      "cell_type": "code",
      "metadata": {
        "colab": {
          "base_uri": "https://localhost:8080/"
        },
        "id": "h2VLmpQkLgEn",
        "outputId": "9159917a-a1dd-4c99-a9f8-beeae49f97f8"
      },
      "source": [
        "word_freq"
      ],
      "execution_count": 15,
      "outputs": [
        {
          "output_type": "execute_result",
          "data": {
            "text/plain": [
              "{'Learning': 1,\n",
              " 'Machine': 1,\n",
              " 'Multiple': 1,\n",
              " 'Python': 1,\n",
              " 'PythonThere': 1,\n",
              " 'Summarization': 3,\n",
              " 'Text': 4,\n",
              " 'alongside': 1,\n",
              " 'also': 1,\n",
              " 'amount': 1,\n",
              " 'appearing': 1,\n",
              " 'article': 1,\n",
              " 'certain': 1,\n",
              " 'communicate': 1,\n",
              " 'contains': 1,\n",
              " 'creating': 1,\n",
              " 'data': 1,\n",
              " 'descriptions': 1,\n",
              " 'develop': 1,\n",
              " 'digitally': 1,\n",
              " 'document': 2,\n",
              " 'documents': 1,\n",
              " 'example': 1,\n",
              " 'explained': 1,\n",
              " 'first': 1,\n",
              " 'generally': 1,\n",
              " 'generated': 1,\n",
              " 'goal': 1,\n",
              " 'half': 1,\n",
              " 'hope': 1,\n",
              " 'huge': 1,\n",
              " 'idea': 1,\n",
              " 'immediately': 1,\n",
              " 'important': 1,\n",
              " 'information': 3,\n",
              " 'introduce': 1,\n",
              " 'keeping': 2,\n",
              " 'know': 1,\n",
              " 'knowledge': 2,\n",
              " 'learning': 3,\n",
              " 'limited': 1,\n",
              " 'long': 1,\n",
              " 'longer': 1,\n",
              " 'machine': 3,\n",
              " 'main': 4,\n",
              " 'makes': 1,\n",
              " 'meaning': 1,\n",
              " 'much': 2,\n",
              " 'necessary': 1,\n",
              " 'need': 1,\n",
              " 'obtain': 2,\n",
              " 'one': 1,\n",
              " 'original': 1,\n",
              " 'points': 1,\n",
              " 'possible': 2,\n",
              " 'procedure': 1,\n",
              " 'process': 1,\n",
              " 'project': 2,\n",
              " 'provided': 1,\n",
              " 'purpose': 1,\n",
              " 'reading': 1,\n",
              " 'reduce': 1,\n",
              " 'reference': 1,\n",
              " 'relevant': 1,\n",
              " 'report': 1,\n",
              " 'searches': 1,\n",
              " 'section': 1,\n",
              " 'shorten': 1,\n",
              " 'smaller': 1,\n",
              " 'speed': 1,\n",
              " 'subjectThe': 1,\n",
              " 'summarization': 3,\n",
              " 'summarize': 1,\n",
              " 'summary': 3,\n",
              " 'take': 1,\n",
              " 'text': 7,\n",
              " 'texts': 1,\n",
              " 'thisI': 1,\n",
              " 'time': 1,\n",
              " 'unique': 1,\n",
              " 'use': 1,\n",
              " 'using': 1,\n",
              " 'version': 1}"
            ]
          },
          "metadata": {
            "tags": []
          },
          "execution_count": 15
        }
      ]
    },
    {
      "cell_type": "markdown",
      "metadata": {
        "id": "gAR_OH48bnKN"
      },
      "source": [
        "### Normalizing the occurance of the words in the document"
      ]
    },
    {
      "cell_type": "code",
      "metadata": {
        "id": "v4_S6iSkLoPn"
      },
      "source": [
        "max_freq = max(word_freq.values())\r\n",
        "for word in word_freq.keys():\r\n",
        "    word_freq[word] = (word_freq[word]/max_freq)"
      ],
      "execution_count": 16,
      "outputs": []
    },
    {
      "cell_type": "code",
      "metadata": {
        "colab": {
          "base_uri": "https://localhost:8080/"
        },
        "id": "IhGM4RDbLvTm",
        "outputId": "10448f4d-dcca-45de-aeb8-e379823183cc"
      },
      "source": [
        "word_freq"
      ],
      "execution_count": 17,
      "outputs": [
        {
          "output_type": "execute_result",
          "data": {
            "text/plain": [
              "{'Learning': 0.14285714285714285,\n",
              " 'Machine': 0.14285714285714285,\n",
              " 'Multiple': 0.14285714285714285,\n",
              " 'Python': 0.14285714285714285,\n",
              " 'PythonThere': 0.14285714285714285,\n",
              " 'Summarization': 0.42857142857142855,\n",
              " 'Text': 0.5714285714285714,\n",
              " 'alongside': 0.14285714285714285,\n",
              " 'also': 0.14285714285714285,\n",
              " 'amount': 0.14285714285714285,\n",
              " 'appearing': 0.14285714285714285,\n",
              " 'article': 0.14285714285714285,\n",
              " 'certain': 0.14285714285714285,\n",
              " 'communicate': 0.14285714285714285,\n",
              " 'contains': 0.14285714285714285,\n",
              " 'creating': 0.14285714285714285,\n",
              " 'data': 0.14285714285714285,\n",
              " 'descriptions': 0.14285714285714285,\n",
              " 'develop': 0.14285714285714285,\n",
              " 'digitally': 0.14285714285714285,\n",
              " 'document': 0.2857142857142857,\n",
              " 'documents': 0.14285714285714285,\n",
              " 'example': 0.14285714285714285,\n",
              " 'explained': 0.14285714285714285,\n",
              " 'first': 0.14285714285714285,\n",
              " 'generally': 0.14285714285714285,\n",
              " 'generated': 0.14285714285714285,\n",
              " 'goal': 0.14285714285714285,\n",
              " 'half': 0.14285714285714285,\n",
              " 'hope': 0.14285714285714285,\n",
              " 'huge': 0.14285714285714285,\n",
              " 'idea': 0.14285714285714285,\n",
              " 'immediately': 0.14285714285714285,\n",
              " 'important': 0.14285714285714285,\n",
              " 'information': 0.42857142857142855,\n",
              " 'introduce': 0.14285714285714285,\n",
              " 'keeping': 0.2857142857142857,\n",
              " 'know': 0.14285714285714285,\n",
              " 'knowledge': 0.2857142857142857,\n",
              " 'learning': 0.42857142857142855,\n",
              " 'limited': 0.14285714285714285,\n",
              " 'long': 0.14285714285714285,\n",
              " 'longer': 0.14285714285714285,\n",
              " 'machine': 0.42857142857142855,\n",
              " 'main': 0.5714285714285714,\n",
              " 'makes': 0.14285714285714285,\n",
              " 'meaning': 0.14285714285714285,\n",
              " 'much': 0.2857142857142857,\n",
              " 'necessary': 0.14285714285714285,\n",
              " 'need': 0.14285714285714285,\n",
              " 'obtain': 0.2857142857142857,\n",
              " 'one': 0.14285714285714285,\n",
              " 'original': 0.14285714285714285,\n",
              " 'points': 0.14285714285714285,\n",
              " 'possible': 0.2857142857142857,\n",
              " 'procedure': 0.14285714285714285,\n",
              " 'process': 0.14285714285714285,\n",
              " 'project': 0.2857142857142857,\n",
              " 'provided': 0.14285714285714285,\n",
              " 'purpose': 0.14285714285714285,\n",
              " 'reading': 0.14285714285714285,\n",
              " 'reduce': 0.14285714285714285,\n",
              " 'reference': 0.14285714285714285,\n",
              " 'relevant': 0.14285714285714285,\n",
              " 'report': 0.14285714285714285,\n",
              " 'searches': 0.14285714285714285,\n",
              " 'section': 0.14285714285714285,\n",
              " 'shorten': 0.14285714285714285,\n",
              " 'smaller': 0.14285714285714285,\n",
              " 'speed': 0.14285714285714285,\n",
              " 'subjectThe': 0.14285714285714285,\n",
              " 'summarization': 0.42857142857142855,\n",
              " 'summarize': 0.14285714285714285,\n",
              " 'summary': 0.42857142857142855,\n",
              " 'take': 0.14285714285714285,\n",
              " 'text': 1.0,\n",
              " 'texts': 0.14285714285714285,\n",
              " 'thisI': 0.14285714285714285,\n",
              " 'time': 0.14285714285714285,\n",
              " 'unique': 0.14285714285714285,\n",
              " 'use': 0.14285714285714285,\n",
              " 'using': 0.14285714285714285,\n",
              " 'version': 0.14285714285714285}"
            ]
          },
          "metadata": {
            "tags": []
          },
          "execution_count": 17
        }
      ]
    },
    {
      "cell_type": "markdown",
      "metadata": {
        "id": "EBITPkZNbvSU"
      },
      "source": [
        "### Tokenizing the input document"
      ]
    },
    {
      "cell_type": "code",
      "metadata": {
        "id": "IHGOQ18YLw2n"
      },
      "source": [
        "sent_list = nltk.sent_tokenize(text)\r\n",
        "sent_score = {}"
      ],
      "execution_count": 26,
      "outputs": []
    },
    {
      "cell_type": "code",
      "metadata": {
        "colab": {
          "base_uri": "https://localhost:8080/"
        },
        "id": "gg1GQZabL4iX",
        "outputId": "79bb5d48-05e0-4347-f7eb-4322a4841efb"
      },
      "source": [
        "sent_list"
      ],
      "execution_count": 21,
      "outputs": [
        {
          "output_type": "execute_result",
          "data": {
            "text/plain": [
              "['Text Summarization is the process of creating a summary of a certain document which contains the most important information of the original, the purpose of which is to obtain a summary of the main points of the document.',\n",
              " 'In this article, I will introduce you to a machine learning project on text summarization with Python.There is a huge amount of data appearing digitally, so it is necessary to develop a unique procedure to immediately summarize long texts while keeping the main idea.',\n",
              " 'Text summarization also makes it possible to shorten the reading time, speed up information searches and obtain as much information as possible on a subject.The main goal of using machine learning for text summarization is to reduce the reference text to a smaller version while keeping its knowledge alongside its meaning.',\n",
              " 'Multiple text summary descriptions are provided, for example, explained the report as text generated from one or more documents that communicate relevant knowledge in the first text, and that is no longer than half of the main text and generally much more limited than this.I hope you now know what is Text Summarization and why we need to use machine learning for it.',\n",
              " 'In the section below, I will take you through a Machine Learning project on Text Summarization with Python.']"
            ]
          },
          "metadata": {
            "tags": []
          },
          "execution_count": 21
        }
      ]
    },
    {
      "cell_type": "markdown",
      "metadata": {
        "id": "L8hM4Cjibzpq"
      },
      "source": [
        "### Calculating the importance of the sentences in the documents based on the importance of their word present in the document"
      ]
    },
    {
      "cell_type": "code",
      "metadata": {
        "id": "DyMOx9LyM77n"
      },
      "source": [
        "for sent in sent_list:\r\n",
        "  for word in nltk.word_tokenize(sent.lower()):\r\n",
        "    if word in word_freq.keys():\r\n",
        "      if sent not in sent_score.keys():\r\n",
        "          sent_score[sent] = word_freq[word]\r\n",
        "      else:\r\n",
        "          sent_score[sent] = sent_score[sent] + word_freq[word]"
      ],
      "execution_count": 27,
      "outputs": []
    },
    {
      "cell_type": "code",
      "metadata": {
        "colab": {
          "base_uri": "https://localhost:8080/"
        },
        "id": "SOi-5iM8NS0m",
        "outputId": "dfadbb42-b54f-44ea-ce43-7e3ae709d723"
      },
      "source": [
        "sent_score"
      ],
      "execution_count": 28,
      "outputs": [
        {
          "output_type": "execute_result",
          "data": {
            "text/plain": [
              "{'In the section below, I will take you through a Machine Learning project on Text Summarization with Python.': 2.8571428571428568,\n",
              " 'In this article, I will introduce you to a machine learning project on text summarization with Python.There is a huge amount of data appearing digitally, so it is necessary to develop a unique procedure to immediately summarize long texts while keeping the main idea.': 5.714285714285715,\n",
              " 'Multiple text summary descriptions are provided, for example, explained the report as text generated from one or more documents that communicate relevant knowledge in the first text, and that is no longer than half of the main text and generally much more limited than this.I hope you now know what is Text Summarization and why we need to use machine learning for it.': 10.571428571428573,\n",
              " 'Text Summarization is the process of creating a summary of a certain document which contains the most important information of the original, the purpose of which is to obtain a summary of the main points of the document.': 5.285714285714285,\n",
              " 'Text summarization also makes it possible to shorten the reading time, speed up information searches and obtain as much information as possible on a subject.The main goal of using machine learning for text summarization is to reduce the reference text to a smaller version while keeping its knowledge alongside its meaning.': 10.0}"
            ]
          },
          "metadata": {
            "tags": []
          },
          "execution_count": 28
        }
      ]
    },
    {
      "cell_type": "markdown",
      "metadata": {
        "id": "vGaxjBoTb-Lz"
      },
      "source": [
        "### Choosing the n largest sentences based on their importance and here n = length of the summary"
      ]
    },
    {
      "cell_type": "code",
      "metadata": {
        "id": "VRrrGy8BNUtW"
      },
      "source": [
        "summary_sents = nlargest(length, sent_score, key=sent_score.get)"
      ],
      "execution_count": 29,
      "outputs": []
    },
    {
      "cell_type": "code",
      "metadata": {
        "colab": {
          "base_uri": "https://localhost:8080/"
        },
        "id": "QT4QhAefPAVm",
        "outputId": "1f1ae685-5550-4612-cbc9-2559d56556fb"
      },
      "source": [
        "summary_sents"
      ],
      "execution_count": 30,
      "outputs": [
        {
          "output_type": "execute_result",
          "data": {
            "text/plain": [
              "['Multiple text summary descriptions are provided, for example, explained the report as text generated from one or more documents that communicate relevant knowledge in the first text, and that is no longer than half of the main text and generally much more limited than this.I hope you now know what is Text Summarization and why we need to use machine learning for it.']"
            ]
          },
          "metadata": {
            "tags": []
          },
          "execution_count": 30
        }
      ]
    },
    {
      "cell_type": "code",
      "metadata": {
        "colab": {
          "base_uri": "https://localhost:8080/"
        },
        "id": "glwcmvVRPCOF",
        "outputId": "3f54ede6-4863-43ea-d7ee-0e6b57a87611"
      },
      "source": [
        "summary = \" \".join(summary_sents)\r\n",
        "print(summary)"
      ],
      "execution_count": 31,
      "outputs": [
        {
          "output_type": "stream",
          "text": [
            "Multiple text summary descriptions are provided, for example, explained the report as text generated from one or more documents that communicate relevant knowledge in the first text, and that is no longer than half of the main text and generally much more limited than this.I hope you now know what is Text Summarization and why we need to use machine learning for it.\n"
          ],
          "name": "stdout"
        }
      ]
    },
    {
      "cell_type": "code",
      "metadata": {
        "id": "S5SkPwCgPOOV"
      },
      "source": [
        ""
      ],
      "execution_count": null,
      "outputs": []
    }
  ]
}